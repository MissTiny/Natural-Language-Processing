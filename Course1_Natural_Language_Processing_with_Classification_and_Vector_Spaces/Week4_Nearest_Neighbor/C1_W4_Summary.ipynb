{
 "cells": [
  {
   "cell_type": "markdown",
   "id": "41fe77ad",
   "metadata": {},
   "source": [
    "### Transforming word vectors"
   ]
  },
  {
   "cell_type": "markdown",
   "id": "0094b3e6",
   "metadata": {},
   "source": [
    "$$XR\\approx Y $$"
   ]
  },
  {
   "cell_type": "markdown",
   "id": "40a49924",
   "metadata": {},
   "source": [
    "> In translation, X corresponds to the matrix of English word vector, and Y corresponds to the matrix of French word vector. R is the mapping matrix"
   ]
  },
  {
   "cell_type": "markdown",
   "id": "4d0d55d4",
   "metadata": {},
   "source": [
    "**Learn R**"
   ]
  },
  {
   "cell_type": "markdown",
   "id": "f3a0d375",
   "metadata": {},
   "source": [
    "- Initialize R\n",
    "- For loop\n",
    "    - Loss = $\\lVert XR-Y \\rVert_{F}$\n",
    "    - $g=\\frac{d}{dR}Loss$\n",
    "    - $R = R-\\alpha * g$"
   ]
  },
  {
   "cell_type": "markdown",
   "id": "ad197dcd",
   "metadata": {},
   "source": [
    "**Frobenius norm**"
   ]
  },
  {
   "cell_type": "markdown",
   "id": "77c63fcf",
   "metadata": {},
   "source": [
    "$$A = \\pmatrix{2 & 2 \\\\ 2 & 2}$$\n",
    "$$\\lVert A \\rVert_{F} = \\sqrt{2^2+2^2+2^2+2^2} = 4$$\n",
    "$$\\lVert A \\rVert_{F} = \\sqrt{\\sum_{i=1}^m \\sum_{j=1}^n \\lvert a_{ij}\\rvert^2}$$"
   ]
  },
  {
   "cell_type": "markdown",
   "id": "542e5128",
   "metadata": {},
   "source": [
    "**Hash table and hash functions**\n",
    "\n",
    "a function that takes data of arbitrary sizes and maps it to a fixed value. The values returned are known as hash values or even hashes\n",
    "> Hash function(vector) -> Hash value\n",
    "\n",
    "> hash value = vector % number of buckets"
   ]
  },
  {
   "cell_type": "code",
   "execution_count": null,
   "id": "d9fd9d70",
   "metadata": {},
   "outputs": [],
   "source": [
    "def basic_has_table(value_l,n_buckets):\n",
    "    def hash_function(value_l,n_buckets):\n",
    "        return int(value_l)% n_buckets\n",
    "    hash_table = {i:[] for i in range(n_buckets)}\n",
    "    for value in value_l:\n",
    "        hash_value = hash_function(value,n_buckets)\n",
    "        hash_table[hash_value].append(value)\n",
    "    return hash_table\n",
    "    "
   ]
  },
  {
   "cell_type": "markdown",
   "id": "9831a68e",
   "metadata": {},
   "source": [
    "**Approximate nearest neightbors**"
   ]
  },
  {
   "cell_type": "code",
   "execution_count": null,
   "id": "7fec7256",
   "metadata": {},
   "outputs": [],
   "source": [
    "def side_of_plane_matrix(P,v):\n",
    "    dotproduct = np.dot(P,v.T)\n",
    "    sign_of_dot_product = np.sign(dotproduct)\n",
    "    return sign_of_dot_product\n",
    "num_dimensions = 2\n",
    "num_planes = 3\n",
    "random_planes_matrix = np.random.normal(size=(num_planes,num_dimensions))\n",
    "num_planes_matrix = side_of_plane_matrix(random_planes_matrix,v)"
   ]
  },
  {
   "cell_type": "markdown",
   "id": "4fbdb631",
   "metadata": {},
   "source": [
    "**Multiple Planes**"
   ]
  },
  {
   "cell_type": "markdown",
   "id": "3b92ae07",
   "metadata": {},
   "source": [
    "Given some point denoted by v, you can run it through several projections P1,P2,P3 to get one hash value. If you compute $P_1v^T$ you get a positive number, so you set $h_1 = 1$.$P_2v^T$  gives you a positive number so you get $h_2 =1$.$P_3v^T$ is a negative number so you set $h_3$ to be 0. Then\n",
    "\n",
    "$hash = 2^0 \\times h_1 +2^1 \\times h_2 +2^2 \\times h_3 = 1 \\times 1 + 2\\times 1 + 4 \\times 0 = 3$\n",
    "\n",
    "$$hashvalue = \\sum_i^H 2^i \\times h_i$$"
   ]
  },
  {
   "cell_type": "code",
   "execution_count": null,
   "id": "c8730f71",
   "metadata": {},
   "outputs": [],
   "source": [
    "def has_multiple_plane(P_l,v):\n",
    "    #P_l list of planes. \n",
    "    hash_value = 0\n",
    "    for i,P in enumerate(P_l):\n",
    "        sign = side_of_plane(P,v)\n",
    "        hash_i = 1 if sign >=0 else 0\n",
    "        hash_value +=2**i*hash_i\n",
    "    return hash_value"
   ]
  },
  {
   "cell_type": "markdown",
   "id": "e0b9dcae",
   "metadata": {},
   "source": [
    "**Searching documents**"
   ]
  },
  {
   "cell_type": "code",
   "execution_count": null,
   "id": "03bce6aa",
   "metadata": {},
   "outputs": [],
   "source": [
    "word_embedding ={\"I\":np.array([1,0,1]),\n",
    "                \"love\":np.array([-1,0,1]),\n",
    "                \"learning\":np.array([1,0,1])}\n",
    "words_in_document = [\"I\",\"love\",\"learning\"]\n",
    "document_embedding = np.array([0,0,0])\n",
    "for word in words_in_document:\n",
    "    document_embedding +=word_embedding.get(word,0)\n",
    "print(document_embedding)"
   ]
  }
 ],
 "metadata": {
  "kernelspec": {
   "display_name": "Python 3 (ipykernel)",
   "language": "python",
   "name": "python3"
  },
  "language_info": {
   "codemirror_mode": {
    "name": "ipython",
    "version": 3
   },
   "file_extension": ".py",
   "mimetype": "text/x-python",
   "name": "python",
   "nbconvert_exporter": "python",
   "pygments_lexer": "ipython3",
   "version": "3.9.12"
  }
 },
 "nbformat": 4,
 "nbformat_minor": 5
}
