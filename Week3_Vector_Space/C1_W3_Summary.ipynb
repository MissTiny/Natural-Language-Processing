{
 "cells": [
  {
   "cell_type": "markdown",
   "id": "af569b7e",
   "metadata": {},
   "source": [
    "### Distance"
   ]
  },
  {
   "cell_type": "markdown",
   "id": "411f1727",
   "metadata": {},
   "source": [
    "**Euclidian Distance**"
   ]
  },
  {
   "cell_type": "markdown",
   "id": "6abf3851",
   "metadata": {},
   "source": [
    ">*2d-dimension*\n",
    "$$d(B,A)= \\sqrt{(B_1-A_1)^2+(B_2-A_2)^2}$$\n",
    ">*N-dimension*\n",
    "$$d(\\vec{v},\\vec{w})=\\sqrt{\\sum_{i=1}^{n}(v_i-w_i)^2}$$"
   ]
  },
  {
   "cell_type": "markdown",
   "id": "98b90351",
   "metadata": {},
   "source": [
    "**Cosine Similarity** - The cosine of the angle between two vectors"
   ]
  },
  {
   "cell_type": "markdown",
   "id": "587c77c4",
   "metadata": {},
   "source": [
    ">$$cos(\\beta)=\\frac{\\hat{v} \\cdot \\hat{w}}{\\lVert v \\rVert\\lVert w\\rVert}$$\n",
    ">where $\\vec{v}\\cdot\\vec{w}=\\sum_{i=1}^n v_i \\cdot w_i$ (*dot product*) and $\\lVert v \\rVert = \\sqrt{\\sum_{i=1}^n \\lvert v_i \\rvert^2}$ (*norm*)<br>\n",
    "\n",
    "$\\beta=0, cos(\\beta) = 1, similar.\\beta=90,cos(\\beta)=0,dissimilar$"
   ]
  },
  {
   "cell_type": "markdown",
   "id": "515c203c",
   "metadata": {},
   "source": [
    "### PCA (Principle Component Analysis)\n",
    "PCA is commonly used to reduce the dimension of my data.\n"
   ]
  },
  {
   "cell_type": "markdown",
   "id": "d2079e49",
   "metadata": {},
   "source": [
    "**Eigenvector**: the resulting vectors, also known as the uncorrelated features of your data\n",
    "**Eigenvalue**: the amount of information retained by each new feature. You can think of it as the variance in the eigenvector\n",
    "- each eigenvalue has a corresponding eignvector.The eigenvalue tells you how much vairance there is in the eigenvector."
   ]
  },
  {
   "cell_type": "markdown",
   "id": "de11c3fe",
   "metadata": {},
   "source": [
    "Steps to compute PCA:\n",
    "- Mean normalize your data $x_i = \\frac{x_i-\\mu_{x_i}}{\\sigma_{x_i}}$, $i$ is each row of $x$\n",
    "- Compute the covariance matrix $\\sum$ based on columns\n",
    "- Compute SVD (singular value decomposition) on your covariance matrix. This returns $[USV] = svd(\\sum)$. The three matrices U,S,V are drawn above. U is labelled with eigenvectors, and S is labelled with eigenvalues\n",
    "- You can then use the first n columns of vector U, to get your new data by mutiplying $XU[:,0:n]$.\n"
   ]
  },
  {
   "cell_type": "markdown",
   "id": "c1fc51ca",
   "metadata": {},
   "source": [
    "### Extract Patterns and Identify structures: Find Capital Cities"
   ]
  },
  {
   "cell_type": "markdown",
   "id": "6a1e00dc",
   "metadata": {},
   "source": [
    "Knowning USA(5,6) -> Washington DC ->(10,5), then Russia (5,5) -> ?\n",
    "- Washington - USA = [5 -1]\n",
    "- Russian +[5 -1] = [10 4]\n",
    "- Then use cosine similarity to find the closest point to [10 4]"
   ]
  }
 ],
 "metadata": {
  "kernelspec": {
   "display_name": "Python 3 (ipykernel)",
   "language": "python",
   "name": "python3"
  },
  "language_info": {
   "codemirror_mode": {
    "name": "ipython",
    "version": 3
   },
   "file_extension": ".py",
   "mimetype": "text/x-python",
   "name": "python",
   "nbconvert_exporter": "python",
   "pygments_lexer": "ipython3",
   "version": "3.9.12"
  }
 },
 "nbformat": 4,
 "nbformat_minor": 5
}
