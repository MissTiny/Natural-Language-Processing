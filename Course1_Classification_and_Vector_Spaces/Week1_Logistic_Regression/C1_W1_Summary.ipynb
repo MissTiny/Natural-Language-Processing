{
 "cells": [
  {
   "cell_type": "markdown",
   "id": "7420abf8",
   "metadata": {},
   "source": [
    "# Summary"
   ]
  },
  {
   "cell_type": "markdown",
   "id": "8037235a",
   "metadata": {},
   "source": [
    "### Sentiment Analysis Overview"
   ]
  },
  {
   "cell_type": "markdown",
   "id": "f3ff8eeb",
   "metadata": {},
   "source": [
    "1. **Features and Target**\n",
    "\n",
    ">**X**(Features): list of words (sentences)=> Vectors<br>\n",
    ">**Y**(Labels): positive or negative\n"
   ]
  },
  {
   "cell_type": "markdown",
   "id": "69fb1dca",
   "metadata": {},
   "source": [
    "2. **Preprocessing**\n",
    "\n",
    ">1) Eliminate handles and URLs<br>\n",
    ">2) Tokenize the string into words<br>\n",
    ">3) Remove stop words like \"and, is, a, on,etc.\"<br>\n",
    ">4) Stemming or convert every word to its stem, like dancer, dancing, becomes 'danc'<br>\n",
    ">5) Convert all words to lower case"
   ]
  },
  {
   "cell_type": "markdown",
   "id": "cff70a39",
   "metadata": {},
   "source": [
    "### Logistic Regression"
   ]
  },
  {
   "cell_type": "markdown",
   "id": "aa47dac2",
   "metadata": {},
   "source": [
    "**Sigmoid**<br>\n",
    "$$h(x^{(i)},\\theta) = \\frac{1}{1+e^{-\\theta^{T}x^{(i)}}}$$"
   ]
  },
  {
   "cell_type": "markdown",
   "id": "f9993521",
   "metadata": {},
   "source": [
    "> When $\\theta^{Tx^{(i)}}$ gets closer to -$\\infty$  $h(x)$ closed to 0, when $\\theta^{Tx^{(i)}}$ closed to +$\\infty$,$h(x)$ closed to 1. Therefore, sigmoid lands between 0 and 1."
   ]
  },
  {
   "cell_type": "markdown",
   "id": "4cd31316",
   "metadata": {},
   "source": [
    "**Training Logic**"
   ]
  },
  {
   "cell_type": "markdown",
   "id": "b44e2584",
   "metadata": {},
   "source": [
    ">1. Initialize parameters $\\theta$\n",
    "2. Classify/Predict - sigmoid h\n",
    "3. Get gradient $\\nabla=\\frac{1}{m}X^{T}(h-y)$\n",
    "4. Update $\\theta = \\theta - \\alpha\\nabla$\n",
    "5. Get loss $J(\\theta)$"
   ]
  },
  {
   "cell_type": "markdown",
   "id": "5ec3ee9f",
   "metadata": {},
   "source": [
    "*Cost Function*"
   ]
  },
  {
   "cell_type": "markdown",
   "id": "948eaacf",
   "metadata": {},
   "source": [
    "$$J(\\theta) = - \\frac{1}{m}[y^{(i)}log h(x^{(i)},\\theta)+(1-y^{(i)})log(1-h(x^{(i)},\\theta))]$$"
   ]
  },
  {
   "cell_type": "markdown",
   "id": "23ffe4b3",
   "metadata": {},
   "source": [
    ">When y=0, only $(1-y^{(i)})log(1-h(x^{(i)},\\theta)$ works. As the prediction getting closer to the actual value,$h(x^{(i)},\\theta)$ will be close to y=0, $log(1-h(x^{(i)},\\theta))$ will close to 0.Then $J(\\theta)$ will be smaller and smaller"
   ]
  },
  {
   "cell_type": "markdown",
   "id": "f18acee6",
   "metadata": {},
   "source": [
    ">When y=1, only $y^{(i)}log(h(x^{(i)},\\theta)$ works. As the prediction getting closer to the actual value,$h(x^{(i)},\\theta)$ will be close to y=1, $log(h(x^{(i)},\\theta))$ will close to 0.Then $J(\\theta)$ will be smaller and smaller"
   ]
  },
  {
   "cell_type": "markdown",
   "id": "3ce7c3eb",
   "metadata": {},
   "source": [
    "*Derivative*"
   ]
  },
  {
   "cell_type": "markdown",
   "id": "540de5ab",
   "metadata": {},
   "source": []
  }
 ],
 "metadata": {
  "kernelspec": {
   "display_name": "Python 3 (ipykernel)",
   "language": "python",
   "name": "python3"
  },
  "language_info": {
   "codemirror_mode": {
    "name": "ipython",
    "version": 3
   },
   "file_extension": ".py",
   "mimetype": "text/x-python",
   "name": "python",
   "nbconvert_exporter": "python",
   "pygments_lexer": "ipython3",
   "version": "3.9.12"
  }
 },
 "nbformat": 4,
 "nbformat_minor": 5
}
